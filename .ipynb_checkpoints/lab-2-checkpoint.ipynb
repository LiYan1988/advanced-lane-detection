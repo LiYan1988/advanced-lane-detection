{
 "cells": [
  {
   "cell_type": "code",
   "execution_count": 14,
   "metadata": {},
   "outputs": [],
   "source": [
    "import cv2 \n",
    "import matplotlib.pyplot as plt \n",
    "import numpy as np\n",
    "import os\n",
    "import pickle\n",
    "\n",
    "%matplotlib inline"
   ]
  },
  {
   "cell_type": "code",
   "execution_count": 17,
   "metadata": {},
   "outputs": [],
   "source": [
    "with open('camera_parameters.p', 'rb') as pfile:\n",
    "    camera_parameters = pickle.load(pfile)\n",
    "    \n",
    "cameraMatrix, distCoeffs = camera_parameters['cameraMatrix'], camera_parameters['distCoeffs']\n",
    "\n",
    "def lane_filtering(img, cameraMatrix, distCoeffs,\n",
    "                  threshold_x=(10, 100), \n",
    "                  threshold_y=(20, 200), \n",
    "                  threshold_angle=(0.6, 1.5), \n",
    "                  threshold_mag=(40, 200),\n",
    "                  threshold_s=(170, 255),\n",
    "                  threshold_r=(230, 255)):\n",
    "    img = cv2.undistort(img, cameraMatrix, distCoeffs, None, cameraMatrix)\n",
    "    channel_r = img[...,0]\n",
    "    channel_s = cv2.cvtColor(img, cv2.COLOR_RGB2HLS)[...,2]\n",
    "    img = cv2.cvtColor(img, cv2.COLOR_RGB2GRAY)\n",
    "    grad_x = cv2.Sobel(img, cv2.CV_64F, 1, 0, ksize=7)\n",
    "    grad_y = cv2.Sobel(img, cv2.CV_64F, 0, 1, ksize=7)\n",
    "    grad_angle = np.arctan2(grad_y, grad_x)\n",
    "    grad_mag = np.sqrt(grad_x**2 + grad_y**2)\n",
    "    grad_x = np.uint8(255 * grad_x / grad_x.max())\n",
    "    grad_y = np.uint8(255 * grad_y / grad_y.max())\n",
    "    grad_mag = np.uint8(255 * grad_mag / grad_mag.max())\n",
    "    \n",
    "    (mask_x, mask_y, mask_angle, mask_angle1, mask_angle2, \n",
    "     mask_mag, mask_r, mask_s, mask_combined) = np.tile(np.zeros_like(grad_x), (9, 1, 1))\n",
    "    mask_x[(grad_x>threshold_x[0])&(grad_x<threshold_x[1])] = 1\n",
    "    mask_y[(grad_y>threshold_y[0])&(grad_y<threshold_y[1])] = 1\n",
    "    mask_mag[(grad_mag>threshold_mag[0])&(grad_mag<threshold_mag[1])] = 1\n",
    "    \n",
    "    mask_angle1[(grad_angle>threshold_angle[0])&(grad_angle<threshold_angle[1])] = 1\n",
    "    mask_angle2[(grad_angle>-threshold_angle[1])&(grad_angle<-threshold_angle[0])] = 1\n",
    "    mask_angle[(mask_angle1 == 1) | (mask_angle2 == 1)] = 1\n",
    "    \n",
    "    mask_r[(channel_r>threshold_r[0])&(channel_r<threshold_r[1])] = 1\n",
    "    mask_s[(channel_s>threshold_s[0])&(channel_s<threshold_s[1])] = 1\n",
    "    \n",
    "    \n",
    "    mask_combined[((mask_r == 1) | (mask_s == 1)) | ( (mask_x == 1))] = 1 \n",
    "    masks = (mask_x, mask_y, mask_angle, mask_mag, mask_s, mask_r)\n",
    "    img_channels = (grad_x, grad_y, grad_angle, grad_mag, channel_s, channel_r)\n",
    "    \n",
    "    return mask_combined, masks, img_channels"
   ]
  },
  {
   "cell_type": "code",
   "execution_count": 18,
   "metadata": {},
   "outputs": [
    {
     "ename": "error",
     "evalue": "/home/travis/miniconda/conda-bld/conda_1486587071158/work/opencv-3.1.0/modules/imgproc/src/undistort.cpp:114: error: (-215) distCoeffs.size() == Size(1, 4) || distCoeffs.size() == Size(4, 1) || distCoeffs.size() == Size(1, 5) || distCoeffs.size() == Size(5, 1) || distCoeffs.size() == Size(1, 8) || distCoeffs.size() == Size(8, 1) || distCoeffs.size() == Size(1, 12) || distCoeffs.size() == Size(12, 1) || distCoeffs.size() == Size(1, 14) || distCoeffs.size() == Size(14, 1) in function initUndistortRectifyMap\n",
     "output_type": "error",
     "traceback": [
      "\u001b[0;31m---------------------------------------------------------------------------\u001b[0m",
      "\u001b[0;31merror\u001b[0m                                     Traceback (most recent call last)",
      "\u001b[0;32m<ipython-input-18-df565c1685ea>\u001b[0m in \u001b[0;36m<module>\u001b[0;34m()\u001b[0m\n\u001b[1;32m      1\u001b[0m \u001b[0mimg\u001b[0m \u001b[0;34m=\u001b[0m \u001b[0mcv2\u001b[0m\u001b[0;34m.\u001b[0m\u001b[0mimread\u001b[0m\u001b[0;34m(\u001b[0m\u001b[0;34m'test_images/straight_lines1.jpg'\u001b[0m\u001b[0;34m)\u001b[0m\u001b[0;34m\u001b[0m\u001b[0m\n\u001b[0;32m----> 2\u001b[0;31m \u001b[0mmask_combined\u001b[0m\u001b[0;34m,\u001b[0m \u001b[0mmasks\u001b[0m\u001b[0;34m,\u001b[0m \u001b[0mimg_channels\u001b[0m \u001b[0;34m=\u001b[0m \u001b[0mlane_filtering\u001b[0m\u001b[0;34m(\u001b[0m\u001b[0mimg\u001b[0m\u001b[0;34m)\u001b[0m\u001b[0;34m\u001b[0m\u001b[0m\n\u001b[0m\u001b[1;32m      3\u001b[0m \u001b[0mmask_x\u001b[0m\u001b[0;34m,\u001b[0m \u001b[0mmask_y\u001b[0m\u001b[0;34m,\u001b[0m \u001b[0mmask_angle\u001b[0m\u001b[0;34m,\u001b[0m \u001b[0mmask_mag\u001b[0m\u001b[0;34m,\u001b[0m \u001b[0mmask_s\u001b[0m\u001b[0;34m,\u001b[0m \u001b[0mmask_r\u001b[0m \u001b[0;34m=\u001b[0m \u001b[0mmasks\u001b[0m\u001b[0;34m\u001b[0m\u001b[0m\n\u001b[1;32m      4\u001b[0m \u001b[0mgrad_x\u001b[0m\u001b[0;34m,\u001b[0m \u001b[0mgrad_y\u001b[0m\u001b[0;34m,\u001b[0m \u001b[0mgrad_angle\u001b[0m\u001b[0;34m,\u001b[0m \u001b[0mgrad_mag\u001b[0m\u001b[0;34m,\u001b[0m \u001b[0mchannel_s\u001b[0m\u001b[0;34m,\u001b[0m \u001b[0mchannel_r\u001b[0m \u001b[0;34m=\u001b[0m \u001b[0mimg_channels\u001b[0m\u001b[0;34m\u001b[0m\u001b[0m\n\u001b[1;32m      5\u001b[0m \u001b[0;34m\u001b[0m\u001b[0m\n",
      "\u001b[0;32m<ipython-input-17-a562d06fa32d>\u001b[0m in \u001b[0;36mlane_filtering\u001b[0;34m(img, cameraMatrix, distCoeffs, threshold_x, threshold_y, threshold_angle, threshold_mag, threshold_s, threshold_r)\u001b[0m\n\u001b[1;32m     11\u001b[0m                   \u001b[0mthreshold_s\u001b[0m\u001b[0;34m=\u001b[0m\u001b[0;34m(\u001b[0m\u001b[0;36m170\u001b[0m\u001b[0;34m,\u001b[0m \u001b[0;36m255\u001b[0m\u001b[0;34m)\u001b[0m\u001b[0;34m,\u001b[0m\u001b[0;34m\u001b[0m\u001b[0m\n\u001b[1;32m     12\u001b[0m                   threshold_r=(230, 255)):\n\u001b[0;32m---> 13\u001b[0;31m     \u001b[0mimg\u001b[0m \u001b[0;34m=\u001b[0m \u001b[0mcv2\u001b[0m\u001b[0;34m.\u001b[0m\u001b[0mundistort\u001b[0m\u001b[0;34m(\u001b[0m\u001b[0mimg\u001b[0m\u001b[0;34m,\u001b[0m \u001b[0mcameraMatrix\u001b[0m\u001b[0;34m,\u001b[0m \u001b[0mdistCoeffs\u001b[0m\u001b[0;34m,\u001b[0m \u001b[0;32mNone\u001b[0m\u001b[0;34m,\u001b[0m \u001b[0mcameraMatrix\u001b[0m\u001b[0;34m)\u001b[0m\u001b[0;34m\u001b[0m\u001b[0m\n\u001b[0m\u001b[1;32m     14\u001b[0m     \u001b[0mchannel_r\u001b[0m \u001b[0;34m=\u001b[0m \u001b[0mimg\u001b[0m\u001b[0;34m[\u001b[0m\u001b[0;34m...\u001b[0m\u001b[0;34m,\u001b[0m\u001b[0;36m0\u001b[0m\u001b[0;34m]\u001b[0m\u001b[0;34m\u001b[0m\u001b[0m\n\u001b[1;32m     15\u001b[0m     \u001b[0mchannel_s\u001b[0m \u001b[0;34m=\u001b[0m \u001b[0mcv2\u001b[0m\u001b[0;34m.\u001b[0m\u001b[0mcvtColor\u001b[0m\u001b[0;34m(\u001b[0m\u001b[0mimg\u001b[0m\u001b[0;34m,\u001b[0m \u001b[0mcv2\u001b[0m\u001b[0;34m.\u001b[0m\u001b[0mCOLOR_RGB2HLS\u001b[0m\u001b[0;34m)\u001b[0m\u001b[0;34m[\u001b[0m\u001b[0;34m...\u001b[0m\u001b[0;34m,\u001b[0m\u001b[0;36m2\u001b[0m\u001b[0;34m]\u001b[0m\u001b[0;34m\u001b[0m\u001b[0m\n",
      "\u001b[0;31merror\u001b[0m: /home/travis/miniconda/conda-bld/conda_1486587071158/work/opencv-3.1.0/modules/imgproc/src/undistort.cpp:114: error: (-215) distCoeffs.size() == Size(1, 4) || distCoeffs.size() == Size(4, 1) || distCoeffs.size() == Size(1, 5) || distCoeffs.size() == Size(5, 1) || distCoeffs.size() == Size(1, 8) || distCoeffs.size() == Size(8, 1) || distCoeffs.size() == Size(1, 12) || distCoeffs.size() == Size(12, 1) || distCoeffs.size() == Size(1, 14) || distCoeffs.size() == Size(14, 1) in function initUndistortRectifyMap\n"
     ]
    }
   ],
   "source": [
    "img = cv2.imread('test_images/straight_lines1.jpg')\n",
    "mask_combined, masks, img_channels = lane_filtering(img, cameraMatrix, distCoeffs)\n",
    "mask_x, mask_y, mask_angle, mask_mag, mask_s, mask_r = masks\n",
    "grad_x, grad_y, grad_angle, grad_mag, channel_s, channel_r = img_channels\n",
    "\n",
    "plt.figure(figsize=(32, 18))\n",
    "plt.imshow(mask_combined, 'gray')\n",
    "plt.show()\n",
    "\n",
    "trapezoid = np.zeros_like(img)\n",
    "src_pts = np.array([[155, 720], [580, 450], [700, 450], [1150, 720]])\n",
    "pts2 = np.array([[130, 720], [575, 400], [800, 400], [1150, 720]])\n",
    "cv2.polylines(trapezoid, [src_pts], True, (255, 0, 0), 2)\n",
    "mask_combined2 = np.tile(mask_combined, (3, 1, 1)).transpose((1, 2, 0))\n",
    "mask_combined2 = mask_combined2 * 255\n",
    "plt.figure(figsize=(32, 18))\n",
    "img_add = cv2.addWeighted(mask_combined2, 1, trapezoid, 1, 0)\n",
    "plt.imshow(img_add)\n",
    "plt.show()"
   ]
  },
  {
   "cell_type": "code",
   "execution_count": null,
   "metadata": {},
   "outputs": [],
   "source": []
  }
 ],
 "metadata": {
  "kernelspec": {
   "display_name": "Python 3",
   "language": "python",
   "name": "python3"
  },
  "language_info": {
   "codemirror_mode": {
    "name": "ipython",
    "version": 3
   },
   "file_extension": ".py",
   "mimetype": "text/x-python",
   "name": "python",
   "nbconvert_exporter": "python",
   "pygments_lexer": "ipython3",
   "version": "3.5.4"
  }
 },
 "nbformat": 4,
 "nbformat_minor": 2
}
